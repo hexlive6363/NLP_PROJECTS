{
  "nbformat": 4,
  "nbformat_minor": 0,
  "metadata": {
    "colab": {
      "provenance": []
    },
    "kernelspec": {
      "name": "python3",
      "display_name": "Python 3"
    },
    "language_info": {
      "name": "python"
    }
  },
  "cells": [
    {
      "cell_type": "code",
      "execution_count": null,
      "metadata": {
        "id": "SKUQ9qrBIiq6",
        "colab": {
          "base_uri": "https://localhost:8080/"
        },
        "outputId": "2dc74363-1620-4bf0-95b1-26960a18b39e"
      },
      "outputs": [
        {
          "output_type": "stream",
          "name": "stdout",
          "text": [
            "('1', 1) ('2', 4) ('1', 2) ('2', 1) ('3', 1) ('4', 1) ('2', 3) "
          ]
        }
      ],
      "source": []
    },
    {
      "cell_type": "markdown",
      "source": [
        "NLTK vs SPACY ??"
      ],
      "metadata": {
        "id": "Xu75mq-lx3mX"
      }
    },
    {
      "cell_type": "markdown",
      "source": [
        "corpus = paragraph"
      ],
      "metadata": {
        "id": "5VLgsZIawWKM"
      }
    },
    {
      "cell_type": "markdown",
      "source": [
        "TOKENIZATION"
      ],
      "metadata": {
        "id": "kywUHAOHyTLP"
      }
    },
    {
      "cell_type": "code",
      "source": [],
      "metadata": {
        "id": "-4qurq6-yVI1"
      },
      "execution_count": null,
      "outputs": []
    },
    {
      "cell_type": "code",
      "source": [],
      "metadata": {
        "id": "1JLxS8XCzl7G"
      },
      "execution_count": null,
      "outputs": []
    },
    {
      "cell_type": "code",
      "source": [
        "from nltk.tokenize import sent_tokenize #convert the paragraph into senteces\n"
      ],
      "metadata": {
        "id": "h-ZdD67ryrHS"
      },
      "execution_count": null,
      "outputs": []
    },
    {
      "cell_type": "code",
      "source": [
        "pip install nltk"
      ],
      "metadata": {
        "colab": {
          "base_uri": "https://localhost:8080/"
        },
        "id": "gUDFv3cozUn9",
        "outputId": "b7c3e0f5-e545-4d83-981b-d22003a8fc79"
      },
      "execution_count": null,
      "outputs": [
        {
          "output_type": "stream",
          "name": "stdout",
          "text": [
            "Requirement already satisfied: nltk in /usr/local/lib/python3.10/dist-packages (3.9.1)\n",
            "Requirement already satisfied: click in /usr/local/lib/python3.10/dist-packages (from nltk) (8.1.7)\n",
            "Requirement already satisfied: joblib in /usr/local/lib/python3.10/dist-packages (from nltk) (1.4.2)\n",
            "Requirement already satisfied: regex>=2021.8.3 in /usr/local/lib/python3.10/dist-packages (from nltk) (2024.11.6)\n",
            "Requirement already satisfied: tqdm in /usr/local/lib/python3.10/dist-packages (from nltk) (4.67.1)\n"
          ]
        }
      ]
    },
    {
      "cell_type": "code",
      "source": [
        "sent_tokenize(corpus)"
      ],
      "metadata": {
        "id": "nXlE7FHSzG6y"
      },
      "execution_count": 12,
      "outputs": []
    },
    {
      "cell_type": "code",
      "source": [
        "import nltk"
      ],
      "metadata": {
        "id": "xr5NXJw2zc3z"
      },
      "execution_count": null,
      "outputs": []
    },
    {
      "cell_type": "code",
      "source": [
        "nltk.download('punkt_tab')\n"
      ],
      "metadata": {
        "colab": {
          "base_uri": "https://localhost:8080/"
        },
        "id": "M3FMW0bCzfqv",
        "outputId": "19fed06b-e3de-439e-d962-6f434d324a32"
      },
      "execution_count": null,
      "outputs": [
        {
          "output_type": "stream",
          "name": "stderr",
          "text": [
            "[nltk_data] Downloading package punkt_tab to /root/nltk_data...\n",
            "[nltk_data]   Unzipping tokenizers/punkt_tab.zip.\n"
          ]
        },
        {
          "output_type": "execute_result",
          "data": {
            "text/plain": [
              "True"
            ]
          },
          "metadata": {},
          "execution_count": 11
        }
      ]
    },
    {
      "cell_type": "code",
      "source": [
        "corpus = \"\"\" The gentle breeze swept through the meadow,\n",
        " carrying the soft scent of wildflowers and freshly cut grass.\n",
        " Birds chirped melodiously, their songs blending seamlessly with the\n",
        " rustling of leaves. A stream gurgled nearby, its clear water reflecting\n",
        "  the azure sky above. Children laughed as they played, their carefree joy\n",
        "   echoing across the field. An old oak tree stood tall, its branches providing\n",
        "    a cool shade where an elderly couple sat, reminiscing about their youth.\n",
        "    Time seemed to slow in this serene corner of nature, offering a brief\n",
        "     respite from the world’s chaos. Moments like these felt like treasures,\n",
        "      simple yet profound.\"\"\""
      ],
      "metadata": {
        "id": "VaI784M_znlt"
      },
      "execution_count": null,
      "outputs": []
    },
    {
      "cell_type": "code",
      "source": [
        "from nltk.tokenize import sent_tokenize"
      ],
      "metadata": {
        "id": "W_hsJu4fzo1B"
      },
      "execution_count": null,
      "outputs": []
    },
    {
      "cell_type": "code",
      "source": [
        "sent_tokenize(corpus)"
      ],
      "metadata": {
        "colab": {
          "base_uri": "https://localhost:8080/"
        },
        "id": "9OjNjhTFztDP",
        "outputId": "e56a7ce7-11cf-4dad-8038-cc9d4c5d6e47"
      },
      "execution_count": null,
      "outputs": [
        {
          "output_type": "execute_result",
          "data": {
            "text/plain": [
              "[' The gentle breeze swept through the meadow,\\n carrying the soft scent of wildflowers and freshly cut grass.',\n",
              " 'Birds chirped melodiously, their songs blending seamlessly with the \\n rustling of leaves.',\n",
              " 'A stream gurgled nearby, its clear water reflecting\\n  the azure sky above.',\n",
              " 'Children laughed as they played, their carefree joy\\n   echoing across the field.',\n",
              " 'An old oak tree stood tall, its branches providing\\n    a cool shade where an elderly couple sat, reminiscing about their youth.',\n",
              " 'Time seemed to slow in this serene corner of nature, offering a brief\\n     respite from the world’s chaos.',\n",
              " 'Moments like these felt like treasures,\\n      simple yet profound.']"
            ]
          },
          "metadata": {},
          "execution_count": 14
        }
      ]
    },
    {
      "cell_type": "code",
      "source": [
        "#paragraph into words or sentence into words"
      ],
      "metadata": {
        "id": "EKYZnQL9z6n_"
      },
      "execution_count": null,
      "outputs": []
    },
    {
      "cell_type": "code",
      "source": [
        "from nltk.tokenize import word_tokenize"
      ],
      "metadata": {
        "id": "hGkwdhldz6yz"
      },
      "execution_count": null,
      "outputs": []
    },
    {
      "cell_type": "code",
      "source": [
        "word_tokenize(corpus)"
      ],
      "metadata": {
        "colab": {
          "base_uri": "https://localhost:8080/"
        },
        "id": "hKobl7IGz69Y",
        "outputId": "3b61705e-fdd2-4646-a20f-7041e2382841"
      },
      "execution_count": null,
      "outputs": [
        {
          "output_type": "execute_result",
          "data": {
            "text/plain": [
              "['The',\n",
              " 'gentle',\n",
              " 'breeze',\n",
              " 'swept',\n",
              " 'through',\n",
              " 'the',\n",
              " 'meadow',\n",
              " ',',\n",
              " 'carrying',\n",
              " 'the',\n",
              " 'soft',\n",
              " 'scent',\n",
              " 'of',\n",
              " 'wildflowers',\n",
              " 'and',\n",
              " 'freshly',\n",
              " 'cut',\n",
              " 'grass',\n",
              " '.',\n",
              " 'Birds',\n",
              " 'chirped',\n",
              " 'melodiously',\n",
              " ',',\n",
              " 'their',\n",
              " 'songs',\n",
              " 'blending',\n",
              " 'seamlessly',\n",
              " 'with',\n",
              " 'the',\n",
              " 'rustling',\n",
              " 'of',\n",
              " 'leaves',\n",
              " '.',\n",
              " 'A',\n",
              " 'stream',\n",
              " 'gurgled',\n",
              " 'nearby',\n",
              " ',',\n",
              " 'its',\n",
              " 'clear',\n",
              " 'water',\n",
              " 'reflecting',\n",
              " 'the',\n",
              " 'azure',\n",
              " 'sky',\n",
              " 'above',\n",
              " '.',\n",
              " 'Children',\n",
              " 'laughed',\n",
              " 'as',\n",
              " 'they',\n",
              " 'played',\n",
              " ',',\n",
              " 'their',\n",
              " 'carefree',\n",
              " 'joy',\n",
              " 'echoing',\n",
              " 'across',\n",
              " 'the',\n",
              " 'field',\n",
              " '.',\n",
              " 'An',\n",
              " 'old',\n",
              " 'oak',\n",
              " 'tree',\n",
              " 'stood',\n",
              " 'tall',\n",
              " ',',\n",
              " 'its',\n",
              " 'branches',\n",
              " 'providing',\n",
              " 'a',\n",
              " 'cool',\n",
              " 'shade',\n",
              " 'where',\n",
              " 'an',\n",
              " 'elderly',\n",
              " 'couple',\n",
              " 'sat',\n",
              " ',',\n",
              " 'reminiscing',\n",
              " 'about',\n",
              " 'their',\n",
              " 'youth',\n",
              " '.',\n",
              " 'Time',\n",
              " 'seemed',\n",
              " 'to',\n",
              " 'slow',\n",
              " 'in',\n",
              " 'this',\n",
              " 'serene',\n",
              " 'corner',\n",
              " 'of',\n",
              " 'nature',\n",
              " ',',\n",
              " 'offering',\n",
              " 'a',\n",
              " 'brief',\n",
              " 'respite',\n",
              " 'from',\n",
              " 'the',\n",
              " 'world',\n",
              " '’',\n",
              " 's',\n",
              " 'chaos',\n",
              " '.',\n",
              " 'Moments',\n",
              " 'like',\n",
              " 'these',\n",
              " 'felt',\n",
              " 'like',\n",
              " 'treasures',\n",
              " ',',\n",
              " 'simple',\n",
              " 'yet',\n",
              " 'profound',\n",
              " '.']"
            ]
          },
          "metadata": {},
          "execution_count": 17
        }
      ]
    },
    {
      "cell_type": "code",
      "source": [
        "from nltk.tokenize import wordpunct_tokenize  #puncutations"
      ],
      "metadata": {
        "id": "gmNUBPVt0FjR"
      },
      "execution_count": null,
      "outputs": []
    },
    {
      "cell_type": "code",
      "source": [
        "wordpunct_tokenize(corpus)"
      ],
      "metadata": {
        "colab": {
          "base_uri": "https://localhost:8080/"
        },
        "id": "fdCbE8hL0FsD",
        "outputId": "97177ef3-dc1d-4cb0-eda5-4c933736c219"
      },
      "execution_count": null,
      "outputs": [
        {
          "output_type": "execute_result",
          "data": {
            "text/plain": [
              "['The',\n",
              " 'gentle',\n",
              " 'breeze',\n",
              " 'swept',\n",
              " 'through',\n",
              " 'the',\n",
              " 'meadow',\n",
              " ',',\n",
              " 'carrying',\n",
              " 'the',\n",
              " 'soft',\n",
              " 'scent',\n",
              " 'of',\n",
              " 'wildflowers',\n",
              " 'and',\n",
              " 'freshly',\n",
              " 'cut',\n",
              " 'grass',\n",
              " '.',\n",
              " 'Birds',\n",
              " 'chirped',\n",
              " 'melodiously',\n",
              " ',',\n",
              " 'their',\n",
              " 'songs',\n",
              " 'blending',\n",
              " 'seamlessly',\n",
              " 'with',\n",
              " 'the',\n",
              " 'rustling',\n",
              " 'of',\n",
              " 'leaves',\n",
              " '.',\n",
              " 'A',\n",
              " 'stream',\n",
              " 'gurgled',\n",
              " 'nearby',\n",
              " ',',\n",
              " 'its',\n",
              " 'clear',\n",
              " 'water',\n",
              " 'reflecting',\n",
              " 'the',\n",
              " 'azure',\n",
              " 'sky',\n",
              " 'above',\n",
              " '.',\n",
              " 'Children',\n",
              " 'laughed',\n",
              " 'as',\n",
              " 'they',\n",
              " 'played',\n",
              " ',',\n",
              " 'their',\n",
              " 'carefree',\n",
              " 'joy',\n",
              " 'echoing',\n",
              " 'across',\n",
              " 'the',\n",
              " 'field',\n",
              " '.',\n",
              " 'An',\n",
              " 'old',\n",
              " 'oak',\n",
              " 'tree',\n",
              " 'stood',\n",
              " 'tall',\n",
              " ',',\n",
              " 'its',\n",
              " 'branches',\n",
              " 'providing',\n",
              " 'a',\n",
              " 'cool',\n",
              " 'shade',\n",
              " 'where',\n",
              " 'an',\n",
              " 'elderly',\n",
              " 'couple',\n",
              " 'sat',\n",
              " ',',\n",
              " 'reminiscing',\n",
              " 'about',\n",
              " 'their',\n",
              " 'youth',\n",
              " '.',\n",
              " 'Time',\n",
              " 'seemed',\n",
              " 'to',\n",
              " 'slow',\n",
              " 'in',\n",
              " 'this',\n",
              " 'serene',\n",
              " 'corner',\n",
              " 'of',\n",
              " 'nature',\n",
              " ',',\n",
              " 'offering',\n",
              " 'a',\n",
              " 'brief',\n",
              " 'respite',\n",
              " 'from',\n",
              " 'the',\n",
              " 'world',\n",
              " '’',\n",
              " 's',\n",
              " 'chaos',\n",
              " '.',\n",
              " 'Moments',\n",
              " 'like',\n",
              " 'these',\n",
              " 'felt',\n",
              " 'like',\n",
              " 'treasures',\n",
              " ',',\n",
              " 'simple',\n",
              " 'yet',\n",
              " 'profound',\n",
              " '.']"
            ]
          },
          "metadata": {},
          "execution_count": 20
        }
      ]
    },
    {
      "cell_type": "code",
      "source": [
        "from nltk.tokenize import TreebankWordTokenizer #. is not separate word but only last full stop is included"
      ],
      "metadata": {
        "id": "dQIbDwqv0-ho"
      },
      "execution_count": null,
      "outputs": []
    },
    {
      "cell_type": "code",
      "source": [
        "TreebankWordTokenizer().tokenize(corpus)"
      ],
      "metadata": {
        "colab": {
          "base_uri": "https://localhost:8080/"
        },
        "id": "lEgB2-e601qK",
        "outputId": "30742e57-732a-4ef5-a1e2-26b46ab9ad8b"
      },
      "execution_count": null,
      "outputs": [
        {
          "output_type": "execute_result",
          "data": {
            "text/plain": [
              "['The',\n",
              " 'gentle',\n",
              " 'breeze',\n",
              " 'swept',\n",
              " 'through',\n",
              " 'the',\n",
              " 'meadow',\n",
              " ',',\n",
              " 'carrying',\n",
              " 'the',\n",
              " 'soft',\n",
              " 'scent',\n",
              " 'of',\n",
              " 'wildflowers',\n",
              " 'and',\n",
              " 'freshly',\n",
              " 'cut',\n",
              " 'grass.',\n",
              " 'Birds',\n",
              " 'chirped',\n",
              " 'melodiously',\n",
              " ',',\n",
              " 'their',\n",
              " 'songs',\n",
              " 'blending',\n",
              " 'seamlessly',\n",
              " 'with',\n",
              " 'the',\n",
              " 'rustling',\n",
              " 'of',\n",
              " 'leaves.',\n",
              " 'A',\n",
              " 'stream',\n",
              " 'gurgled',\n",
              " 'nearby',\n",
              " ',',\n",
              " 'its',\n",
              " 'clear',\n",
              " 'water',\n",
              " 'reflecting',\n",
              " 'the',\n",
              " 'azure',\n",
              " 'sky',\n",
              " 'above.',\n",
              " 'Children',\n",
              " 'laughed',\n",
              " 'as',\n",
              " 'they',\n",
              " 'played',\n",
              " ',',\n",
              " 'their',\n",
              " 'carefree',\n",
              " 'joy',\n",
              " 'echoing',\n",
              " 'across',\n",
              " 'the',\n",
              " 'field.',\n",
              " 'An',\n",
              " 'old',\n",
              " 'oak',\n",
              " 'tree',\n",
              " 'stood',\n",
              " 'tall',\n",
              " ',',\n",
              " 'its',\n",
              " 'branches',\n",
              " 'providing',\n",
              " 'a',\n",
              " 'cool',\n",
              " 'shade',\n",
              " 'where',\n",
              " 'an',\n",
              " 'elderly',\n",
              " 'couple',\n",
              " 'sat',\n",
              " ',',\n",
              " 'reminiscing',\n",
              " 'about',\n",
              " 'their',\n",
              " 'youth.',\n",
              " 'Time',\n",
              " 'seemed',\n",
              " 'to',\n",
              " 'slow',\n",
              " 'in',\n",
              " 'this',\n",
              " 'serene',\n",
              " 'corner',\n",
              " 'of',\n",
              " 'nature',\n",
              " ',',\n",
              " 'offering',\n",
              " 'a',\n",
              " 'brief',\n",
              " 'respite',\n",
              " 'from',\n",
              " 'the',\n",
              " 'world’s',\n",
              " 'chaos.',\n",
              " 'Moments',\n",
              " 'like',\n",
              " 'these',\n",
              " 'felt',\n",
              " 'like',\n",
              " 'treasures',\n",
              " ',',\n",
              " 'simple',\n",
              " 'yet',\n",
              " 'profound',\n",
              " '.']"
            ]
          },
          "metadata": {},
          "execution_count": 24
        }
      ]
    },
    {
      "cell_type": "code",
      "source": [
        "words = [\n",
        "    \"running\", \"flies\", \"better\", \"playing\", \"children\", \"teeth\",\n",
        "    \"cacti\", \"bought\", \"mice\", \"talked\", \"geese\", \"swimming\",\n",
        "    \"driving\", \"quickly\", \"happier\", \"thinking\", \"studying\", \"wolves\"\n",
        "]"
      ],
      "metadata": {
        "id": "IyEop2wb01tv"
      },
      "execution_count": null,
      "outputs": []
    },
    {
      "cell_type": "code",
      "source": [
        "#PORTSTEMMER\n",
        "from nltk.stem import PorterStemmer"
      ],
      "metadata": {
        "id": "xq0Dd0OfAB8Z"
      },
      "execution_count": null,
      "outputs": []
    },
    {
      "cell_type": "code",
      "source": [
        "stem= PorterStemmer()"
      ],
      "metadata": {
        "id": "6sI_oBRk1WQP"
      },
      "execution_count": null,
      "outputs": []
    },
    {
      "cell_type": "code",
      "source": [
        "for i in words:\n",
        "  print(i + \" : \" + stem.stem(i))"
      ],
      "metadata": {
        "colab": {
          "base_uri": "https://localhost:8080/"
        },
        "id": "rylwSFr91WYl",
        "outputId": "8dd15af5-16f0-4798-d4af-7e828ff49132"
      },
      "execution_count": null,
      "outputs": [
        {
          "output_type": "stream",
          "name": "stdout",
          "text": [
            "running : run\n",
            "flies : fli\n",
            "better : better\n",
            "playing : play\n",
            "children : children\n",
            "teeth : teeth\n",
            "cacti : cacti\n",
            "bought : bought\n",
            "mice : mice\n",
            "talked : talk\n",
            "geese : gees\n",
            "swimming : swim\n",
            "driving : drive\n",
            "quickly : quickli\n",
            "happier : happier\n",
            "thinking : think\n",
            "studying : studi\n",
            "wolves : wolv\n"
          ]
        }
      ]
    },
    {
      "cell_type": "code",
      "source": [
        "stem.stem(\"studying\") #disadvantage of stemming"
      ],
      "metadata": {
        "colab": {
          "base_uri": "https://localhost:8080/",
          "height": 36
        },
        "id": "LxhCCWbO1WbK",
        "outputId": "131aba39-64c1-4263-dfda-ce01f0b93d1c"
      },
      "execution_count": null,
      "outputs": [
        {
          "output_type": "execute_result",
          "data": {
            "text/plain": [
              "'studi'"
            ],
            "application/vnd.google.colaboratory.intrinsic+json": {
              "type": "string"
            }
          },
          "metadata": {},
          "execution_count": 30
        }
      ]
    },
    {
      "cell_type": "code",
      "source": [
        "from nltk.stem import RegexpStemmer"
      ],
      "metadata": {
        "id": "VzvmXUcM1WdV"
      },
      "execution_count": null,
      "outputs": []
    },
    {
      "cell_type": "code",
      "source": [
        "reg= RegexpStemmer('ing$|s$|e$|able$', min=4)"
      ],
      "metadata": {
        "id": "LSGDBaCK1Wg5"
      },
      "execution_count": null,
      "outputs": []
    },
    {
      "cell_type": "code",
      "source": [
        "for i in words:\n",
        "  print(i + \"=>\" +\" \"+ reg.stem(i))"
      ],
      "metadata": {
        "colab": {
          "base_uri": "https://localhost:8080/"
        },
        "id": "ofcZ6iTcCIeO",
        "outputId": "ade1bce5-cd8e-4e26-f8c4-d23da037fc1e"
      },
      "execution_count": null,
      "outputs": [
        {
          "output_type": "stream",
          "name": "stdout",
          "text": [
            "running=> runn\n",
            "flies=> flie\n",
            "better=> better\n",
            "playing=> play\n",
            "children=> children\n",
            "teeth=> teeth\n",
            "cacti=> cacti\n",
            "bought=> bought\n",
            "mice=> mic\n",
            "talked=> talked\n",
            "geese=> gees\n",
            "swimming=> swimm\n",
            "driving=> driv\n",
            "quickly=> quickly\n",
            "happier=> happier\n",
            "thinking=> think\n",
            "studying=> study\n",
            "wolves=> wolve\n"
          ]
        }
      ]
    },
    {
      "cell_type": "code",
      "source": [
        "reg.stem(\"studying\") #we solve the above problem"
      ],
      "metadata": {
        "colab": {
          "base_uri": "https://localhost:8080/",
          "height": 36
        },
        "id": "9ucKxkUuCRuR",
        "outputId": "0161395f-de33-45d4-ca82-f41999fafb7e"
      },
      "execution_count": null,
      "outputs": [
        {
          "output_type": "execute_result",
          "data": {
            "text/plain": [
              "'study'"
            ],
            "application/vnd.google.colaboratory.intrinsic+json": {
              "type": "string"
            }
          },
          "metadata": {},
          "execution_count": 37
        }
      ]
    },
    {
      "cell_type": "code",
      "source": [
        "from nltk.stem import SnowballStemmer"
      ],
      "metadata": {
        "id": "iMbHmzXQCR5G"
      },
      "execution_count": null,
      "outputs": []
    },
    {
      "cell_type": "code",
      "source": [
        "j=SnowballStemmer('english')"
      ],
      "metadata": {
        "id": "m5QCZYyzCs3k"
      },
      "execution_count": null,
      "outputs": []
    },
    {
      "cell_type": "code",
      "source": [
        "for i in words:\n",
        "  print(i+\"=>\"+ j.stem(i))"
      ],
      "metadata": {
        "colab": {
          "base_uri": "https://localhost:8080/"
        },
        "id": "qG9hLbCuCs-v",
        "outputId": "79571dfd-0eb0-464b-dadb-8f98be2a2fc1"
      },
      "execution_count": null,
      "outputs": [
        {
          "output_type": "stream",
          "name": "stdout",
          "text": [
            "running=>run\n",
            "flies=>fli\n",
            "better=>better\n",
            "playing=>play\n",
            "children=>children\n",
            "teeth=>teeth\n",
            "cacti=>cacti\n",
            "bought=>bought\n",
            "mice=>mice\n",
            "talked=>talk\n",
            "geese=>gees\n",
            "swimming=>swim\n",
            "driving=>drive\n",
            "quickly=>quick\n",
            "happier=>happier\n",
            "thinking=>think\n",
            "studying=>studi\n",
            "wolves=>wolv\n"
          ]
        }
      ]
    },
    {
      "cell_type": "code",
      "source": [
        "j.stem('studying'),j.stem('thinking')"
      ],
      "metadata": {
        "colab": {
          "base_uri": "https://localhost:8080/"
        },
        "id": "N3WX_W3pCtCK",
        "outputId": "2a18417e-cd5e-43b0-be5a-b4f56a0bcd41"
      },
      "execution_count": null,
      "outputs": [
        {
          "output_type": "execute_result",
          "data": {
            "text/plain": [
              "('studi', 'think')"
            ]
          },
          "metadata": {},
          "execution_count": 42
        }
      ]
    },
    {
      "cell_type": "code",
      "source": [
        "#lemmaitzation solve above problems we get root words time taking (Q&A,text summary,chatbot)\n"
      ],
      "metadata": {
        "colab": {
          "base_uri": "https://localhost:8080/"
        },
        "id": "I35wbw4QCtLo",
        "outputId": "9320627c-ad21-4897-9d90-962100fdb81e"
      },
      "execution_count": null,
      "outputs": [
        {
          "output_type": "stream",
          "name": "stderr",
          "text": [
            "[nltk_data] Downloading package wordnet to /root/nltk_data...\n"
          ]
        },
        {
          "output_type": "execute_result",
          "data": {
            "text/plain": [
              "True"
            ]
          },
          "metadata": {},
          "execution_count": 48
        }
      ]
    },
    {
      "cell_type": "code",
      "source": [
        "from nltk.stem import WordNetLemmatizer"
      ],
      "metadata": {
        "id": "GCp9dhaJDame"
      },
      "execution_count": null,
      "outputs": []
    },
    {
      "cell_type": "code",
      "source": [
        "lemm=WordNetLemmatizer()"
      ],
      "metadata": {
        "id": "WqRu4E-hDgB5"
      },
      "execution_count": null,
      "outputs": []
    },
    {
      "cell_type": "code",
      "source": [
        "for i in words:\n",
        "  print(i+\"=>\"+lemm.lemmatize(i,pos='v'))"
      ],
      "metadata": {
        "colab": {
          "base_uri": "https://localhost:8080/"
        },
        "id": "mSaMSsqODgET",
        "outputId": "39d68fb6-da88-4057-ae14-364ef5669b9f"
      },
      "execution_count": null,
      "outputs": [
        {
          "output_type": "stream",
          "name": "stdout",
          "text": [
            "running=>run\n",
            "flies=>fly\n",
            "better=>better\n",
            "playing=>play\n",
            "children=>children\n",
            "teeth=>teeth\n",
            "cacti=>cacti\n",
            "bought=>buy\n",
            "mice=>mice\n",
            "talked=>talk\n",
            "geese=>geese\n",
            "swimming=>swim\n",
            "driving=>drive\n",
            "quickly=>quickly\n",
            "happier=>happier\n",
            "thinking=>think\n",
            "studying=>study\n",
            "wolves=>wolves\n"
          ]
        }
      ]
    },
    {
      "cell_type": "code",
      "source": [
        "lemm.lemmatize('studying',pos='v'),lemm.lemmatize('goes',pos='n')"
      ],
      "metadata": {
        "colab": {
          "base_uri": "https://localhost:8080/"
        },
        "id": "QSSVvr2UDgGY",
        "outputId": "61b91ce3-51d5-47c0-d662-cab47658a003"
      },
      "execution_count": null,
      "outputs": [
        {
          "output_type": "execute_result",
          "data": {
            "text/plain": [
              "('study', 'go')"
            ]
          },
          "metadata": {},
          "execution_count": 58
        }
      ]
    },
    {
      "cell_type": "code",
      "source": [
        "Pos - Noun n\n",
        "Verb v\n",
        "Adjective a\n",
        "Adverb r\n",
        "Adverb r"
      ],
      "metadata": {
        "id": "nao-meSTDgJ7"
      },
      "execution_count": 12,
      "outputs": []
    },
    {
      "cell_type": "code",
      "source": [
        "#STOPWORDS\n",
        "from nltk.corpus import stopwords\n",
        "import nltk\n",
        "nltk.download('stopwords')\n",
        "new=\"\"\"\n",
        "    \"Shared values of democracy, liberty, and equality form the foundation of the India-U.S. relationship.\",\n",
        "    \"Economic ties highlighted with American businesses thriving in India and Indian companies contributing to the U.S. economy.\",\n",
        "    \"Trade and capital flow between India and the U.S. generates jobs in both nations.\",\n",
        "    \"A unified global response to terrorism is essential; terrorism must be delegitimized and those harboring terrorists isolated.\",\n",
        "    \"India is committed to sustainable development and combating climate change by promoting renewable energy.\",\n",
        "    \"India’s ancient belief emphasizes living in harmony with nature, aligning with global environmental efforts.\",\n",
        "    \"Defense partnership has grown significantly with joint military exercises and increased defense trade.\",\n",
        "    \"Indian-American community praised for contributions in various fields, including technology, academia, and healthcare.\",\n",
        "    \"Cultural exchanges and the diaspora foster deeper understanding and collaboration between the nations.\",\n",
        "    \"India and the U.S. share a vision for global stability and prosperity through strategic partnerships.\",\n",
        "    \"Strengthened ties between the nations contribute to peace, economic growth, and security worldwide.\",\n",
        "    \"Optimism expressed for the future of the India-U.S. relationship as a force for global good.\",\n",
        "    \"Both nations committed to upholding democratic values and addressing global challenges collectively.\",\n",
        "    \"The enduring friendship between India and the U.S. is built on shared ideals and mutual respect.\",\n",
        "    \"Prime Minister Modi's speech was met with standing ovations, reflecting strong bipartisan support in the U.S. Congress.\"\"\"\n",
        "\n"
      ],
      "metadata": {
        "colab": {
          "base_uri": "https://localhost:8080/"
        },
        "id": "UQju3yhLDao6",
        "outputId": "4cd69482-c1e5-4c47-a347-2b435645dce4"
      },
      "execution_count": null,
      "outputs": [
        {
          "output_type": "stream",
          "name": "stderr",
          "text": [
            "[nltk_data] Downloading package stopwords to /root/nltk_data...\n",
            "[nltk_data]   Package stopwords is already up-to-date!\n"
          ]
        }
      ]
    },
    {
      "cell_type": "code",
      "source": [
        "stopwords.words('english')"
      ],
      "metadata": {
        "colab": {
          "base_uri": "https://localhost:8080/"
        },
        "id": "pbHhfvVbIVeL",
        "outputId": "db9f467d-0925-419a-bd92-f18699e07853"
      },
      "execution_count": null,
      "outputs": [
        {
          "output_type": "execute_result",
          "data": {
            "text/plain": [
              "['i',\n",
              " 'me',\n",
              " 'my',\n",
              " 'myself',\n",
              " 'we',\n",
              " 'our',\n",
              " 'ours',\n",
              " 'ourselves',\n",
              " 'you',\n",
              " \"you're\",\n",
              " \"you've\",\n",
              " \"you'll\",\n",
              " \"you'd\",\n",
              " 'your',\n",
              " 'yours',\n",
              " 'yourself',\n",
              " 'yourselves',\n",
              " 'he',\n",
              " 'him',\n",
              " 'his',\n",
              " 'himself',\n",
              " 'she',\n",
              " \"she's\",\n",
              " 'her',\n",
              " 'hers',\n",
              " 'herself',\n",
              " 'it',\n",
              " \"it's\",\n",
              " 'its',\n",
              " 'itself',\n",
              " 'they',\n",
              " 'them',\n",
              " 'their',\n",
              " 'theirs',\n",
              " 'themselves',\n",
              " 'what',\n",
              " 'which',\n",
              " 'who',\n",
              " 'whom',\n",
              " 'this',\n",
              " 'that',\n",
              " \"that'll\",\n",
              " 'these',\n",
              " 'those',\n",
              " 'am',\n",
              " 'is',\n",
              " 'are',\n",
              " 'was',\n",
              " 'were',\n",
              " 'be',\n",
              " 'been',\n",
              " 'being',\n",
              " 'have',\n",
              " 'has',\n",
              " 'had',\n",
              " 'having',\n",
              " 'do',\n",
              " 'does',\n",
              " 'did',\n",
              " 'doing',\n",
              " 'a',\n",
              " 'an',\n",
              " 'the',\n",
              " 'and',\n",
              " 'but',\n",
              " 'if',\n",
              " 'or',\n",
              " 'because',\n",
              " 'as',\n",
              " 'until',\n",
              " 'while',\n",
              " 'of',\n",
              " 'at',\n",
              " 'by',\n",
              " 'for',\n",
              " 'with',\n",
              " 'about',\n",
              " 'against',\n",
              " 'between',\n",
              " 'into',\n",
              " 'through',\n",
              " 'during',\n",
              " 'before',\n",
              " 'after',\n",
              " 'above',\n",
              " 'below',\n",
              " 'to',\n",
              " 'from',\n",
              " 'up',\n",
              " 'down',\n",
              " 'in',\n",
              " 'out',\n",
              " 'on',\n",
              " 'off',\n",
              " 'over',\n",
              " 'under',\n",
              " 'again',\n",
              " 'further',\n",
              " 'then',\n",
              " 'once',\n",
              " 'here',\n",
              " 'there',\n",
              " 'when',\n",
              " 'where',\n",
              " 'why',\n",
              " 'how',\n",
              " 'all',\n",
              " 'any',\n",
              " 'both',\n",
              " 'each',\n",
              " 'few',\n",
              " 'more',\n",
              " 'most',\n",
              " 'other',\n",
              " 'some',\n",
              " 'such',\n",
              " 'no',\n",
              " 'nor',\n",
              " 'not',\n",
              " 'only',\n",
              " 'own',\n",
              " 'same',\n",
              " 'so',\n",
              " 'than',\n",
              " 'too',\n",
              " 'very',\n",
              " 's',\n",
              " 't',\n",
              " 'can',\n",
              " 'will',\n",
              " 'just',\n",
              " 'don',\n",
              " \"don't\",\n",
              " 'should',\n",
              " \"should've\",\n",
              " 'now',\n",
              " 'd',\n",
              " 'll',\n",
              " 'm',\n",
              " 'o',\n",
              " 're',\n",
              " 've',\n",
              " 'y',\n",
              " 'ain',\n",
              " 'aren',\n",
              " \"aren't\",\n",
              " 'couldn',\n",
              " \"couldn't\",\n",
              " 'didn',\n",
              " \"didn't\",\n",
              " 'doesn',\n",
              " \"doesn't\",\n",
              " 'hadn',\n",
              " \"hadn't\",\n",
              " 'hasn',\n",
              " \"hasn't\",\n",
              " 'haven',\n",
              " \"haven't\",\n",
              " 'isn',\n",
              " \"isn't\",\n",
              " 'ma',\n",
              " 'mightn',\n",
              " \"mightn't\",\n",
              " 'mustn',\n",
              " \"mustn't\",\n",
              " 'needn',\n",
              " \"needn't\",\n",
              " 'shan',\n",
              " \"shan't\",\n",
              " 'shouldn',\n",
              " \"shouldn't\",\n",
              " 'wasn',\n",
              " \"wasn't\",\n",
              " 'weren',\n",
              " \"weren't\",\n",
              " 'won',\n",
              " \"won't\",\n",
              " 'wouldn',\n",
              " \"wouldn't\"]"
            ]
          },
          "metadata": {},
          "execution_count": 68
        }
      ]
    },
    {
      "cell_type": "code",
      "source": [
        "  from nltk.stem import PorterStemmer"
      ],
      "metadata": {
        "id": "pDDfC9bqDarT"
      },
      "execution_count": null,
      "outputs": []
    },
    {
      "cell_type": "code",
      "source": [
        "s=PorterStemmer()"
      ],
      "metadata": {
        "id": "q-2fsqisDatY"
      },
      "execution_count": null,
      "outputs": []
    },
    {
      "cell_type": "code",
      "source": [
        "up=nltk.sent_tokenize(new)"
      ],
      "metadata": {
        "id": "tS_USUDSDawy"
      },
      "execution_count": null,
      "outputs": []
    },
    {
      "cell_type": "code",
      "source": [
        "for i in range(len(up)):\n",
        "  words=nltk.word_tokenize(up[i])\n",
        "  words=[s.stem(word) for word in words if word not in set(stopwords.words('english'))]\n",
        "  up[i]=' '.join(words)"
      ],
      "metadata": {
        "id": "Ainal4pECtNu"
      },
      "execution_count": null,
      "outputs": []
    },
    {
      "cell_type": "markdown",
      "source": [],
      "metadata": {
        "id": "USFiPlLHPvzk"
      }
    },
    {
      "cell_type": "code",
      "source": [
        "print(up)"
      ],
      "metadata": {
        "colab": {
          "base_uri": "https://localhost:8080/"
        },
        "id": "nUNQ80N6PN9Q",
        "outputId": "143d7e82-be6c-43b4-9508-cc09883cfada"
      },
      "execution_count": null,
      "outputs": [
        {
          "output_type": "stream",
          "name": "stdout",
          "text": [
            "['`` share valu democraci , liberti , equal form foundat india-u. .', 'relationship .', '`` , `` econom tie highlight american busi thrive india indian compani contribut u. .', 'economi .', '`` , `` trade capit flow india u.s. gener job nation .', '`` , `` a unifi global respons terror essenti ; terror must delegitim harbor terrorist isol .', '`` , `` india commit sustain develop combat climat chang promot renew energi .', '`` , `` india ’ ancient belief emphas live harmoni natur , align global environment effort .', '`` , `` defens partnership grown significantli joint militari exercis increas defens trade .', '`` , `` indian-american commun prais contribut variou field , includ technolog , academia , healthcar .', '`` , `` cultur exchang diaspora foster deeper understand collabor nation .', '`` , `` india u.s. share vision global stabil prosper strateg partnership .', '`` , `` strengthen tie nation contribut peac , econom growth , secur worldwid .', '`` , `` optim express futur india-u.s. relationship forc global good .', '`` , `` both nation commit uphold democrat valu address global challeng collect .', '`` , `` the endur friendship india u.s. built share ideal mutual respect .', \"`` , `` prime minist modi 's speech met stand ovat , reflect strong bipartisan support u.s. congress .\"]\n"
          ]
        }
      ]
    },
    {
      "cell_type": "code",
      "source": [
        "from nltk.stem import WordNetLemmatizer\n",
        "lem=WordNetLemmatizer()"
      ],
      "metadata": {
        "id": "6RTPKEzICtRF"
      },
      "execution_count": null,
      "outputs": []
    },
    {
      "cell_type": "code",
      "source": [
        "for i in range(len(up)):\n",
        "  words=nltk.word_tokenize(up[i])\n",
        "  words=[lem.lemmatize(word,pos='v') for word in words if word not in set(stopwords.words('english'))]\n",
        "  up[i]=' '.join(words)"
      ],
      "metadata": {
        "id": "h5VbkmqxPy5E"
      },
      "execution_count": null,
      "outputs": []
    },
    {
      "cell_type": "code",
      "source": [
        "print(up)"
      ],
      "metadata": {
        "colab": {
          "base_uri": "https://localhost:8080/"
        },
        "id": "HAH65wfgPy7d",
        "outputId": "5bfa40d2-497a-431a-ef7d-3770ec841284"
      },
      "execution_count": null,
      "outputs": [
        {
          "output_type": "stream",
          "name": "stdout",
          "text": [
            "['`` share valu democraci , liberti , equal form foundat india-u . .', 'relationship .', '`` , `` econom tie highlight american busi thrive india indian compani contribut u. .', 'economi .', '`` , `` trade capit flow india u.s. gener job nation .', '`` , `` unifi global respons terror essenti ; terror must delegitim harbor terrorist isol .', '`` , `` india commit sustain develop combat climat chang promot renew energi .', '`` , `` india ’ ancient belief emphas live harmoni natur , align global environment effort .', '`` , `` defens partnership grow significantli joint militari exercis increas defens trade .', '`` , `` indian-american commun prais contribut variou field , includ technolog , academia , healthcar .', '`` , `` cultur exchang diaspora foster deeper understand collabor nation .', '`` , `` india u.s. share vision global stabil prosper strateg partnership .', '`` , `` strengthen tie nation contribut peac , econom growth , secur worldwid .', '`` , `` optim express futur india-u.s. relationship forc global good .', '`` , `` nation commit uphold democrat valu address global challeng collect .', '`` , `` endur friendship india u.s. build share ideal mutual respect .', \"`` , `` prime minist modi 's speech meet stand ovat , reflect strong bipartisan support u.s. congress .\"]\n"
          ]
        }
      ]
    },
    {
      "cell_type": "markdown",
      "source": [
        "#PART OF SPEECH TAGGING"
      ],
      "metadata": {
        "id": "E9bgoWZIRUfu"
      }
    },
    {
      "cell_type": "code",
      "source": [
        "ok=\"\"\"\n",
        "    \"Shared values of democracy, liberty, and equality form the foundation of the India-U.S. relationship.\",\n",
        "    \"Economic ties highlighted with American businesses thriving in India and Indian companies contributing to the U.S. economy.\",\n",
        "    \"Trade and capital flow between India and the U.S. generates jobs in both nations.\",\n",
        "    \"A unified global response to terrorism is essential; terrorism must be delegitimized and those harboring terrorists isolated.\",\n",
        "    \"India is committed to sustainable development and combating climate change by promoting renewable energy.\",\n",
        "    \"India’s ancient belief emphasizes living in harmony with nature, aligning with global environmental efforts.\",\n",
        "    \"Defense partnership has grown significantly with joint military exercises and increased defense trade.\",\n",
        "    \"Indian-American community praised for contributions in various fields, including technology, academia, and healthcare.\",\n",
        "    \"Cultural exchanges and the diaspora foster deeper understanding and collaboration between the nations.\",\n",
        "    \"India and the U.S. share a vision for global stability and prosperity through strategic partnerships.\",\n",
        "    \"Strengthened ties between the nations contribute to peace, economic growth, and security worldwide.\",\n",
        "    \"Optimism expressed for the future of the India-U.S. relationship as a force for global good.\",\n",
        "    \"Both nations committed to upholding democratic values and addressing global challenges collectively.\",\n",
        "    \"The enduring friendship between India and the U.S. is built on shared ideals and mutual respect.\",\n",
        "    \"Prime Minister Modi's speech was met with standing ovations, reflecting strong bipartisan support in the U.S. Congress.\"\"\"\n",
        "\n"
      ],
      "metadata": {
        "id": "aRNLiEWFPzBQ"
      },
      "execution_count": null,
      "outputs": []
    },
    {
      "cell_type": "code",
      "source": [
        "import nltk\n",
        "it=nltk.sent_tokenize(ok)"
      ],
      "metadata": {
        "id": "ubfsRhGqRyiE"
      },
      "execution_count": null,
      "outputs": []
    },
    {
      "cell_type": "code",
      "source": [
        "import nltk\n",
        "nltk.download('averaged_perceptron_tagger_eng')"
      ],
      "metadata": {
        "colab": {
          "base_uri": "https://localhost:8080/"
        },
        "id": "wKyKXmQ0SXVG",
        "outputId": "0092d1dc-6f64-4b2d-bb7b-36699d213cbf"
      },
      "execution_count": null,
      "outputs": [
        {
          "output_type": "stream",
          "name": "stderr",
          "text": [
            "[nltk_data] Downloading package averaged_perceptron_tagger_eng to\n",
            "[nltk_data]     /root/nltk_data...\n",
            "[nltk_data]   Package averaged_perceptron_tagger_eng is already up-to-\n",
            "[nltk_data]       date!\n"
          ]
        },
        {
          "output_type": "execute_result",
          "data": {
            "text/plain": [
              "True"
            ]
          },
          "metadata": {},
          "execution_count": 93
        }
      ]
    },
    {
      "cell_type": "code",
      "source": [
        "print(it)"
      ],
      "metadata": {
        "colab": {
          "base_uri": "https://localhost:8080/"
        },
        "id": "b7DYkypMR07B",
        "outputId": "49769844-def7-40eb-f4b0-eece9b88cb7f"
      },
      "execution_count": null,
      "outputs": [
        {
          "output_type": "stream",
          "name": "stdout",
          "text": [
            "['\\n    \"Shared values of democracy, liberty, and equality form the foundation of the India-U.S.', 'relationship.', '\",\\n    \"Economic ties highlighted with American businesses thriving in India and Indian companies contributing to the U.S.', 'economy.', '\",\\n    \"Trade and capital flow between India and the U.S. generates jobs in both nations.', '\",\\n    \"A unified global response to terrorism is essential; terrorism must be delegitimized and those harboring terrorists isolated.', '\",\\n    \"India is committed to sustainable development and combating climate change by promoting renewable energy.', '\",\\n    \"India’s ancient belief emphasizes living in harmony with nature, aligning with global environmental efforts.', '\",\\n    \"Defense partnership has grown significantly with joint military exercises and increased defense trade.', '\",\\n    \"Indian-American community praised for contributions in various fields, including technology, academia, and healthcare.', '\",\\n    \"Cultural exchanges and the diaspora foster deeper understanding and collaboration between the nations.', '\",\\n    \"India and the U.S. share a vision for global stability and prosperity through strategic partnerships.', '\",\\n    \"Strengthened ties between the nations contribute to peace, economic growth, and security worldwide.', '\",\\n    \"Optimism expressed for the future of the India-U.S. relationship as a force for global good.', '\",\\n    \"Both nations committed to upholding democratic values and addressing global challenges collectively.', '\",\\n    \"The enduring friendship between India and the U.S. is built on shared ideals and mutual respect.', '\",\\n    \"Prime Minister Modi\\'s speech was met with standing ovations, reflecting strong bipartisan support in the U.S. Congress.']\n"
          ]
        }
      ]
    },
    {
      "cell_type": "code",
      "source": [
        "for i in range(len(it)):\n",
        "  words=nltk.word_tokenize(it[i])\n",
        "  words=nltk.pos_tag(words)\n",
        "  print(words)"
      ],
      "metadata": {
        "colab": {
          "base_uri": "https://localhost:8080/"
        },
        "id": "nN4T151BRykd",
        "outputId": "431504ba-715b-44e0-a4f6-74b317c4c8bc"
      },
      "execution_count": null,
      "outputs": [
        {
          "output_type": "stream",
          "name": "stdout",
          "text": [
            "[('``', '``'), ('Shared', 'VBN'), ('values', 'NNS'), ('of', 'IN'), ('democracy', 'NN'), (',', ','), ('liberty', 'NN'), (',', ','), ('and', 'CC'), ('equality', 'NN'), ('form', 'VBP'), ('the', 'DT'), ('foundation', 'NN'), ('of', 'IN'), ('the', 'DT'), ('India-U.S', 'NNP'), ('.', '.')]\n",
            "[('relationship', 'NN'), ('.', '.')]\n",
            "[('``', '``'), (',', ','), ('``', '``'), ('Economic', 'NNP'), ('ties', 'NNS'), ('highlighted', 'VBD'), ('with', 'IN'), ('American', 'JJ'), ('businesses', 'NNS'), ('thriving', 'VBG'), ('in', 'IN'), ('India', 'NNP'), ('and', 'CC'), ('Indian', 'JJ'), ('companies', 'NNS'), ('contributing', 'VBG'), ('to', 'TO'), ('the', 'DT'), ('U.S', 'NNP'), ('.', '.')]\n",
            "[('economy', 'NN'), ('.', '.')]\n",
            "[('``', '``'), (',', ','), ('``', '``'), ('Trade', 'NNP'), ('and', 'CC'), ('capital', 'NN'), ('flow', 'NN'), ('between', 'IN'), ('India', 'NNP'), ('and', 'CC'), ('the', 'DT'), ('U.S.', 'NNP'), ('generates', 'VBZ'), ('jobs', 'NNS'), ('in', 'IN'), ('both', 'DT'), ('nations', 'NNS'), ('.', '.')]\n",
            "[('``', '``'), (',', ','), ('``', '``'), ('A', 'DT'), ('unified', 'JJ'), ('global', 'JJ'), ('response', 'NN'), ('to', 'TO'), ('terrorism', 'NN'), ('is', 'VBZ'), ('essential', 'JJ'), (';', ':'), ('terrorism', 'NN'), ('must', 'MD'), ('be', 'VB'), ('delegitimized', 'VBN'), ('and', 'CC'), ('those', 'DT'), ('harboring', 'VBG'), ('terrorists', 'NNS'), ('isolated', 'VBD'), ('.', '.')]\n",
            "[('``', '``'), (',', ','), ('``', '``'), ('India', 'NNP'), ('is', 'VBZ'), ('committed', 'VBN'), ('to', 'TO'), ('sustainable', 'VB'), ('development', 'NN'), ('and', 'CC'), ('combating', 'VBG'), ('climate', 'NN'), ('change', 'NN'), ('by', 'IN'), ('promoting', 'VBG'), ('renewable', 'JJ'), ('energy', 'NN'), ('.', '.')]\n",
            "[('``', '``'), (',', ','), ('``', '``'), ('India', 'NNP'), ('’', 'NNP'), ('s', 'VBD'), ('ancient', 'JJ'), ('belief', 'NN'), ('emphasizes', 'VBZ'), ('living', 'VBG'), ('in', 'IN'), ('harmony', 'NN'), ('with', 'IN'), ('nature', 'NN'), (',', ','), ('aligning', 'VBG'), ('with', 'IN'), ('global', 'JJ'), ('environmental', 'JJ'), ('efforts', 'NNS'), ('.', '.')]\n",
            "[('``', '``'), (',', ','), ('``', '``'), ('Defense', 'NNP'), ('partnership', 'NN'), ('has', 'VBZ'), ('grown', 'VBN'), ('significantly', 'RB'), ('with', 'IN'), ('joint', 'JJ'), ('military', 'JJ'), ('exercises', 'NNS'), ('and', 'CC'), ('increased', 'VBD'), ('defense', 'NN'), ('trade', 'NN'), ('.', '.')]\n",
            "[('``', '``'), (',', ','), ('``', '``'), ('Indian-American', 'JJ'), ('community', 'NN'), ('praised', 'VBN'), ('for', 'IN'), ('contributions', 'NNS'), ('in', 'IN'), ('various', 'JJ'), ('fields', 'NNS'), (',', ','), ('including', 'VBG'), ('technology', 'NN'), (',', ','), ('academia', 'NN'), (',', ','), ('and', 'CC'), ('healthcare', 'NN'), ('.', '.')]\n",
            "[('``', '``'), (',', ','), ('``', '``'), ('Cultural', 'JJ'), ('exchanges', 'NNS'), ('and', 'CC'), ('the', 'DT'), ('diaspora', 'NN'), ('foster', 'NN'), ('deeper', 'IN'), ('understanding', 'NN'), ('and', 'CC'), ('collaboration', 'NN'), ('between', 'IN'), ('the', 'DT'), ('nations', 'NNS'), ('.', '.')]\n",
            "[('``', '``'), (',', ','), ('``', '``'), ('India', 'NNP'), ('and', 'CC'), ('the', 'DT'), ('U.S.', 'NNP'), ('share', 'NN'), ('a', 'DT'), ('vision', 'NN'), ('for', 'IN'), ('global', 'JJ'), ('stability', 'NN'), ('and', 'CC'), ('prosperity', 'NN'), ('through', 'IN'), ('strategic', 'JJ'), ('partnerships', 'NNS'), ('.', '.')]\n",
            "[('``', '``'), (',', ','), ('``', '``'), ('Strengthened', 'VBD'), ('ties', 'NNS'), ('between', 'IN'), ('the', 'DT'), ('nations', 'NNS'), ('contribute', 'VBP'), ('to', 'TO'), ('peace', 'NN'), (',', ','), ('economic', 'JJ'), ('growth', 'NN'), (',', ','), ('and', 'CC'), ('security', 'NN'), ('worldwide', 'NN'), ('.', '.')]\n",
            "[('``', '``'), (',', ','), ('``', '``'), ('Optimism', 'NN'), ('expressed', 'VBN'), ('for', 'IN'), ('the', 'DT'), ('future', 'NN'), ('of', 'IN'), ('the', 'DT'), ('India-U.S.', 'JJ'), ('relationship', 'NN'), ('as', 'IN'), ('a', 'DT'), ('force', 'NN'), ('for', 'IN'), ('global', 'JJ'), ('good', 'NN'), ('.', '.')]\n",
            "[('``', '``'), (',', ','), ('``', '``'), ('Both', 'DT'), ('nations', 'NNS'), ('committed', 'VBN'), ('to', 'TO'), ('upholding', 'VBG'), ('democratic', 'JJ'), ('values', 'NNS'), ('and', 'CC'), ('addressing', 'VBG'), ('global', 'JJ'), ('challenges', 'NNS'), ('collectively', 'RB'), ('.', '.')]\n",
            "[('``', '``'), (',', ','), ('``', '``'), ('The', 'DT'), ('enduring', 'VBG'), ('friendship', 'NN'), ('between', 'IN'), ('India', 'NNP'), ('and', 'CC'), ('the', 'DT'), ('U.S.', 'NNP'), ('is', 'VBZ'), ('built', 'VBN'), ('on', 'IN'), ('shared', 'VBN'), ('ideals', 'NNS'), ('and', 'CC'), ('mutual', 'JJ'), ('respect', 'NN'), ('.', '.')]\n",
            "[('``', '``'), (',', ','), ('``', '``'), ('Prime', 'NNP'), ('Minister', 'NNP'), ('Modi', 'NNP'), (\"'s\", 'POS'), ('speech', 'NN'), ('was', 'VBD'), ('met', 'VBN'), ('with', 'IN'), ('standing', 'VBG'), ('ovations', 'NNS'), (',', ','), ('reflecting', 'VBG'), ('strong', 'JJ'), ('bipartisan', 'JJ'), ('support', 'NN'), ('in', 'IN'), ('the', 'DT'), ('U.S.', 'NNP'), ('Congress', 'NNP'), ('.', '.')]\n"
          ]
        }
      ]
    },
    {
      "cell_type": "markdown",
      "source": [
        "#EXAMPle pos_tag()"
      ],
      "metadata": {
        "id": "ckWv8qTaUTS6"
      }
    },
    {
      "cell_type": "code",
      "source": [
        "print(nltk.pos_tag(\"i am going to watch tajmahal\".split()))"
      ],
      "metadata": {
        "id": "V0yNcG5MRym3"
      },
      "execution_count": 12,
      "outputs": []
    },
    {
      "cell_type": "markdown",
      "source": [
        "#name entity recognition"
      ],
      "metadata": {
        "id": "CzcvCpFYUyfx"
      }
    },
    {
      "cell_type": "code",
      "source": [
        "par=\"Civilization is approximately 6,000 years old,tracing back to the emergence of organized societies in Mesopotamia.These early civilizations laid the foundation for human cultural, social, and technological development.\""
      ],
      "metadata": {
        "id": "q5j6te97RyrO"
      },
      "execution_count": 2,
      "outputs": []
    },
    {
      "cell_type": "code",
      "source": [
        "import nltk\n",
        "nltk.download('punkt_tab')\n",
        "nltk.download('averaged_perceptron_tagger_eng')\n",
        "nltk.download('maxent_ne_chunker_tab')\n",
        "nltk.download('words')"
      ],
      "metadata": {
        "colab": {
          "base_uri": "https://localhost:8080/"
        },
        "id": "JkqHeeM3E1SR",
        "outputId": "14c95bb0-0096-4949-f144-f6564d2018e8"
      },
      "execution_count": 3,
      "outputs": [
        {
          "output_type": "stream",
          "name": "stderr",
          "text": [
            "[nltk_data] Downloading package punkt_tab to /root/nltk_data...\n",
            "[nltk_data]   Unzipping tokenizers/punkt_tab.zip.\n",
            "[nltk_data] Downloading package averaged_perceptron_tagger_eng to\n",
            "[nltk_data]     /root/nltk_data...\n",
            "[nltk_data]   Unzipping taggers/averaged_perceptron_tagger_eng.zip.\n",
            "[nltk_data] Downloading package maxent_ne_chunker_tab to\n",
            "[nltk_data]     /root/nltk_data...\n",
            "[nltk_data]   Unzipping chunkers/maxent_ne_chunker_tab.zip.\n",
            "[nltk_data] Downloading package words to /root/nltk_data...\n",
            "[nltk_data]   Unzipping corpora/words.zip.\n"
          ]
        },
        {
          "output_type": "execute_result",
          "data": {
            "text/plain": [
              "True"
            ]
          },
          "metadata": {},
          "execution_count": 3
        }
      ]
    },
    {
      "cell_type": "code",
      "source": [
        "import nltk\n",
        "nltk.pos_tag(nltk.word_tokenize(par))"
      ],
      "metadata": {
        "colab": {
          "base_uri": "https://localhost:8080/"
        },
        "id": "eq4WHjS_3nFd",
        "outputId": "50cbb97b-99d7-4a07-f57c-3bc6de5e1270"
      },
      "execution_count": 4,
      "outputs": [
        {
          "output_type": "execute_result",
          "data": {
            "text/plain": [
              "[('Civilization', 'NN'),\n",
              " ('is', 'VBZ'),\n",
              " ('approximately', 'RB'),\n",
              " ('6,000', 'CD'),\n",
              " ('years', 'NNS'),\n",
              " ('old', 'JJ'),\n",
              " (',', ','),\n",
              " ('tracing', 'VBG'),\n",
              " ('back', 'RB'),\n",
              " ('to', 'TO'),\n",
              " ('the', 'DT'),\n",
              " ('emergence', 'NN'),\n",
              " ('of', 'IN'),\n",
              " ('organized', 'JJ'),\n",
              " ('societies', 'NNS'),\n",
              " ('in', 'IN'),\n",
              " ('Mesopotamia.These', 'JJ'),\n",
              " ('early', 'JJ'),\n",
              " ('civilizations', 'NNS'),\n",
              " ('laid', 'VBD'),\n",
              " ('the', 'DT'),\n",
              " ('foundation', 'NN'),\n",
              " ('for', 'IN'),\n",
              " ('human', 'JJ'),\n",
              " ('cultural', 'JJ'),\n",
              " (',', ','),\n",
              " ('social', 'JJ'),\n",
              " (',', ','),\n",
              " ('and', 'CC'),\n",
              " ('technological', 'JJ'),\n",
              " ('development', 'NN'),\n",
              " ('.', '.')]"
            ]
          },
          "metadata": {},
          "execution_count": 4
        }
      ]
    },
    {
      "cell_type": "markdown",
      "source": [],
      "metadata": {
        "id": "oDQbeNNhFDPK"
      }
    },
    {
      "cell_type": "code",
      "source": [
        "import svgling"
      ],
      "metadata": {
        "id": "PSfbX9VjWvzG"
      },
      "execution_count": 7,
      "outputs": []
    },
    {
      "cell_type": "code",
      "source": [
        "nltk.ne_chunk(nltk.pos_tag(nltk.word_tokenize(par)))"
      ],
      "metadata": {
        "colab": {
          "base_uri": "https://localhost:8080/",
          "height": 210
        },
        "id": "wR1L7fME3nH7",
        "outputId": "0fa9a5fd-5455-4c37-e272-780a9e8eaa74"
      },
      "execution_count": 12,
      "outputs": [
        {
          "output_type": "execute_result",
          "data": {
            "text/plain": [
              "Tree('S', [Tree('GPE', [('Civilization', 'NN')]), ('is', 'VBZ'), ('approximately', 'RB'), ('6,000', 'CD'), ('years', 'NNS'), ('old', 'JJ'), (',', ','), ('tracing', 'VBG'), ('back', 'RB'), ('to', 'TO'), ('the', 'DT'), ('emergence', 'NN'), ('of', 'IN'), ('organized', 'JJ'), ('societies', 'NNS'), ('in', 'IN'), ('Mesopotamia.These', 'JJ'), ('early', 'JJ'), ('civilizations', 'NNS'), ('laid', 'VBD'), ('the', 'DT'), ('foundation', 'NN'), ('for', 'IN'), ('human', 'JJ'), ('cultural', 'JJ'), (',', ','), ('social', 'JJ'), (',', ','), ('and', 'CC'), ('technological', 'JJ'), ('development', 'NN'), ('.', '.')])"
            ],
            "image/svg+xml": "<svg baseProfile=\"full\" height=\"168px\" preserveAspectRatio=\"xMidYMid meet\" style=\"font-family: times, serif; font-weight: normal; font-style: normal; font-size: 16px\" version=\"1.1\" viewBox=\"0,0,2056.0,168.0\" width=\"2056px\" xmlns=\"http://www.w3.org/2000/svg\" xmlns:ev=\"http://www.w3.org/2001/xml-events\" xmlns:xlink=\"http://www.w3.org/1999/xlink\"><defs /><svg width=\"100%\" x=\"0\" y=\"0px\"><defs /><text text-anchor=\"middle\" x=\"50%\" y=\"16px\">S</text></svg><svg width=\"5.44747%\" x=\"0%\" y=\"48px\"><defs /><svg width=\"100%\" x=\"0\" y=\"0px\"><defs /><text text-anchor=\"middle\" x=\"50%\" y=\"16px\">GPE</text></svg><svg width=\"100%\" x=\"0%\" y=\"48px\"><defs /><svg width=\"100%\" x=\"0\" y=\"0px\"><defs /><text text-anchor=\"middle\" x=\"50%\" y=\"16px\">Civilization</text></svg><svg width=\"100%\" x=\"0%\" y=\"48px\"><defs /><svg width=\"100%\" x=\"0\" y=\"0px\"><defs /><text text-anchor=\"middle\" x=\"50%\" y=\"16px\">NN</text></svg></svg><line stroke=\"black\" x1=\"50%\" x2=\"50%\" y1=\"20px\" y2=\"48px\" /></svg><line stroke=\"black\" x1=\"50%\" x2=\"50%\" y1=\"20px\" y2=\"48px\" /></svg><line stroke=\"black\" x1=\"50%\" x2=\"2.72374%\" y1=\"20px\" y2=\"48px\" /><svg width=\"1.94553%\" x=\"5.44747%\" y=\"48px\"><defs /><svg width=\"100%\" x=\"0\" y=\"0px\"><defs /><text text-anchor=\"middle\" x=\"50%\" y=\"16px\">is</text></svg><svg width=\"100%\" x=\"0%\" y=\"48px\"><defs /><svg width=\"100%\" x=\"0\" y=\"0px\"><defs /><text text-anchor=\"middle\" x=\"50%\" y=\"16px\">VBZ</text></svg></svg><line stroke=\"black\" x1=\"50%\" x2=\"50%\" y1=\"20px\" y2=\"48px\" /></svg><line stroke=\"black\" x1=\"50%\" x2=\"6.42023%\" y1=\"20px\" y2=\"48px\" /><svg width=\"5.83658%\" x=\"7.393%\" y=\"48px\"><defs /><svg width=\"100%\" x=\"0\" y=\"0px\"><defs /><text text-anchor=\"middle\" x=\"50%\" y=\"16px\">approximately</text></svg><svg width=\"100%\" x=\"0%\" y=\"48px\"><defs /><svg width=\"100%\" x=\"0\" y=\"0px\"><defs /><text text-anchor=\"middle\" x=\"50%\" y=\"16px\">RB</text></svg></svg><line stroke=\"black\" x1=\"50%\" x2=\"50%\" y1=\"20px\" y2=\"48px\" /></svg><line stroke=\"black\" x1=\"50%\" x2=\"10.3113%\" y1=\"20px\" y2=\"48px\" /><svg width=\"2.72374%\" x=\"13.2296%\" y=\"48px\"><defs /><svg width=\"100%\" x=\"0\" y=\"0px\"><defs /><text text-anchor=\"middle\" x=\"50%\" y=\"16px\">6,000</text></svg><svg width=\"100%\" x=\"0%\" y=\"48px\"><defs /><svg width=\"100%\" x=\"0\" y=\"0px\"><defs /><text text-anchor=\"middle\" x=\"50%\" y=\"16px\">CD</text></svg></svg><line stroke=\"black\" x1=\"50%\" x2=\"50%\" y1=\"20px\" y2=\"48px\" /></svg><line stroke=\"black\" x1=\"50%\" x2=\"14.5914%\" y1=\"20px\" y2=\"48px\" /><svg width=\"2.72374%\" x=\"15.9533%\" y=\"48px\"><defs /><svg width=\"100%\" x=\"0\" y=\"0px\"><defs /><text text-anchor=\"middle\" x=\"50%\" y=\"16px\">years</text></svg><svg width=\"100%\" x=\"0%\" y=\"48px\"><defs /><svg width=\"100%\" x=\"0\" y=\"0px\"><defs /><text text-anchor=\"middle\" x=\"50%\" y=\"16px\">NNS</text></svg></svg><line stroke=\"black\" x1=\"50%\" x2=\"50%\" y1=\"20px\" y2=\"48px\" /></svg><line stroke=\"black\" x1=\"50%\" x2=\"17.3152%\" y1=\"20px\" y2=\"48px\" /><svg width=\"1.94553%\" x=\"18.677%\" y=\"48px\"><defs /><svg width=\"100%\" x=\"0\" y=\"0px\"><defs /><text text-anchor=\"middle\" x=\"50%\" y=\"16px\">old</text></svg><svg width=\"100%\" x=\"0%\" y=\"48px\"><defs /><svg width=\"100%\" x=\"0\" y=\"0px\"><defs /><text text-anchor=\"middle\" x=\"50%\" y=\"16px\">JJ</text></svg></svg><line stroke=\"black\" x1=\"50%\" x2=\"50%\" y1=\"20px\" y2=\"48px\" /></svg><line stroke=\"black\" x1=\"50%\" x2=\"19.6498%\" y1=\"20px\" y2=\"48px\" /><svg width=\"1.16732%\" x=\"20.6226%\" y=\"48px\"><defs /><svg width=\"100%\" x=\"0\" y=\"0px\"><defs /><text text-anchor=\"middle\" x=\"50%\" y=\"16px\">,</text></svg><svg width=\"100%\" x=\"0%\" y=\"48px\"><defs /><svg width=\"100%\" x=\"0\" y=\"0px\"><defs /><text text-anchor=\"middle\" x=\"50%\" y=\"16px\">,</text></svg></svg><line stroke=\"black\" x1=\"50%\" x2=\"50%\" y1=\"20px\" y2=\"48px\" /></svg><line stroke=\"black\" x1=\"50%\" x2=\"21.2062%\" y1=\"20px\" y2=\"48px\" /><svg width=\"3.50195%\" x=\"21.7899%\" y=\"48px\"><defs /><svg width=\"100%\" x=\"0\" y=\"0px\"><defs /><text text-anchor=\"middle\" x=\"50%\" y=\"16px\">tracing</text></svg><svg width=\"100%\" x=\"0%\" y=\"48px\"><defs /><svg width=\"100%\" x=\"0\" y=\"0px\"><defs /><text text-anchor=\"middle\" x=\"50%\" y=\"16px\">VBG</text></svg></svg><line stroke=\"black\" x1=\"50%\" x2=\"50%\" y1=\"20px\" y2=\"48px\" /></svg><line stroke=\"black\" x1=\"50%\" x2=\"23.5409%\" y1=\"20px\" y2=\"48px\" /><svg width=\"2.33463%\" x=\"25.2918%\" y=\"48px\"><defs /><svg width=\"100%\" x=\"0\" y=\"0px\"><defs /><text text-anchor=\"middle\" x=\"50%\" y=\"16px\">back</text></svg><svg width=\"100%\" x=\"0%\" y=\"48px\"><defs /><svg width=\"100%\" x=\"0\" y=\"0px\"><defs /><text text-anchor=\"middle\" x=\"50%\" y=\"16px\">RB</text></svg></svg><line stroke=\"black\" x1=\"50%\" x2=\"50%\" y1=\"20px\" y2=\"48px\" /></svg><line stroke=\"black\" x1=\"50%\" x2=\"26.4591%\" y1=\"20px\" y2=\"48px\" /><svg width=\"1.55642%\" x=\"27.6265%\" y=\"48px\"><defs /><svg width=\"100%\" x=\"0\" y=\"0px\"><defs /><text text-anchor=\"middle\" x=\"50%\" y=\"16px\">to</text></svg><svg width=\"100%\" x=\"0%\" y=\"48px\"><defs /><svg width=\"100%\" x=\"0\" y=\"0px\"><defs /><text text-anchor=\"middle\" x=\"50%\" y=\"16px\">TO</text></svg></svg><line stroke=\"black\" x1=\"50%\" x2=\"50%\" y1=\"20px\" y2=\"48px\" /></svg><line stroke=\"black\" x1=\"50%\" x2=\"28.4047%\" y1=\"20px\" y2=\"48px\" /><svg width=\"1.94553%\" x=\"29.1829%\" y=\"48px\"><defs /><svg width=\"100%\" x=\"0\" y=\"0px\"><defs /><text text-anchor=\"middle\" x=\"50%\" y=\"16px\">the</text></svg><svg width=\"100%\" x=\"0%\" y=\"48px\"><defs /><svg width=\"100%\" x=\"0\" y=\"0px\"><defs /><text text-anchor=\"middle\" x=\"50%\" y=\"16px\">DT</text></svg></svg><line stroke=\"black\" x1=\"50%\" x2=\"50%\" y1=\"20px\" y2=\"48px\" /></svg><line stroke=\"black\" x1=\"50%\" x2=\"30.1556%\" y1=\"20px\" y2=\"48px\" /><svg width=\"4.28016%\" x=\"31.1284%\" y=\"48px\"><defs /><svg width=\"100%\" x=\"0\" y=\"0px\"><defs /><text text-anchor=\"middle\" x=\"50%\" y=\"16px\">emergence</text></svg><svg width=\"100%\" x=\"0%\" y=\"48px\"><defs /><svg width=\"100%\" x=\"0\" y=\"0px\"><defs /><text text-anchor=\"middle\" x=\"50%\" y=\"16px\">NN</text></svg></svg><line stroke=\"black\" x1=\"50%\" x2=\"50%\" y1=\"20px\" y2=\"48px\" /></svg><line stroke=\"black\" x1=\"50%\" x2=\"33.2685%\" y1=\"20px\" y2=\"48px\" /><svg width=\"1.55642%\" x=\"35.4086%\" y=\"48px\"><defs /><svg width=\"100%\" x=\"0\" y=\"0px\"><defs /><text text-anchor=\"middle\" x=\"50%\" y=\"16px\">of</text></svg><svg width=\"100%\" x=\"0%\" y=\"48px\"><defs /><svg width=\"100%\" x=\"0\" y=\"0px\"><defs /><text text-anchor=\"middle\" x=\"50%\" y=\"16px\">IN</text></svg></svg><line stroke=\"black\" x1=\"50%\" x2=\"50%\" y1=\"20px\" y2=\"48px\" /></svg><line stroke=\"black\" x1=\"50%\" x2=\"36.1868%\" y1=\"20px\" y2=\"48px\" /><svg width=\"4.28016%\" x=\"36.965%\" y=\"48px\"><defs /><svg width=\"100%\" x=\"0\" y=\"0px\"><defs /><text text-anchor=\"middle\" x=\"50%\" y=\"16px\">organized</text></svg><svg width=\"100%\" x=\"0%\" y=\"48px\"><defs /><svg width=\"100%\" x=\"0\" y=\"0px\"><defs /><text text-anchor=\"middle\" x=\"50%\" y=\"16px\">JJ</text></svg></svg><line stroke=\"black\" x1=\"50%\" x2=\"50%\" y1=\"20px\" y2=\"48px\" /></svg><line stroke=\"black\" x1=\"50%\" x2=\"39.1051%\" y1=\"20px\" y2=\"48px\" /><svg width=\"4.28016%\" x=\"41.2451%\" y=\"48px\"><defs /><svg width=\"100%\" x=\"0\" y=\"0px\"><defs /><text text-anchor=\"middle\" x=\"50%\" y=\"16px\">societies</text></svg><svg width=\"100%\" x=\"0%\" y=\"48px\"><defs /><svg width=\"100%\" x=\"0\" y=\"0px\"><defs /><text text-anchor=\"middle\" x=\"50%\" y=\"16px\">NNS</text></svg></svg><line stroke=\"black\" x1=\"50%\" x2=\"50%\" y1=\"20px\" y2=\"48px\" /></svg><line stroke=\"black\" x1=\"50%\" x2=\"43.3852%\" y1=\"20px\" y2=\"48px\" /><svg width=\"1.55642%\" x=\"45.5253%\" y=\"48px\"><defs /><svg width=\"100%\" x=\"0\" y=\"0px\"><defs /><text text-anchor=\"middle\" x=\"50%\" y=\"16px\">in</text></svg><svg width=\"100%\" x=\"0%\" y=\"48px\"><defs /><svg width=\"100%\" x=\"0\" y=\"0px\"><defs /><text text-anchor=\"middle\" x=\"50%\" y=\"16px\">IN</text></svg></svg><line stroke=\"black\" x1=\"50%\" x2=\"50%\" y1=\"20px\" y2=\"48px\" /></svg><line stroke=\"black\" x1=\"50%\" x2=\"46.3035%\" y1=\"20px\" y2=\"48px\" /><svg width=\"7.393%\" x=\"47.0817%\" y=\"48px\"><defs /><svg width=\"100%\" x=\"0\" y=\"0px\"><defs /><text text-anchor=\"middle\" x=\"50%\" y=\"16px\">Mesopotamia.These</text></svg><svg width=\"100%\" x=\"0%\" y=\"48px\"><defs /><svg width=\"100%\" x=\"0\" y=\"0px\"><defs /><text text-anchor=\"middle\" x=\"50%\" y=\"16px\">JJ</text></svg></svg><line stroke=\"black\" x1=\"50%\" x2=\"50%\" y1=\"20px\" y2=\"48px\" /></svg><line stroke=\"black\" x1=\"50%\" x2=\"50.7782%\" y1=\"20px\" y2=\"48px\" /><svg width=\"2.72374%\" x=\"54.4747%\" y=\"48px\"><defs /><svg width=\"100%\" x=\"0\" y=\"0px\"><defs /><text text-anchor=\"middle\" x=\"50%\" y=\"16px\">early</text></svg><svg width=\"100%\" x=\"0%\" y=\"48px\"><defs /><svg width=\"100%\" x=\"0\" y=\"0px\"><defs /><text text-anchor=\"middle\" x=\"50%\" y=\"16px\">JJ</text></svg></svg><line stroke=\"black\" x1=\"50%\" x2=\"50%\" y1=\"20px\" y2=\"48px\" /></svg><line stroke=\"black\" x1=\"50%\" x2=\"55.8366%\" y1=\"20px\" y2=\"48px\" /><svg width=\"5.83658%\" x=\"57.1984%\" y=\"48px\"><defs /><svg width=\"100%\" x=\"0\" y=\"0px\"><defs /><text text-anchor=\"middle\" x=\"50%\" y=\"16px\">civilizations</text></svg><svg width=\"100%\" x=\"0%\" y=\"48px\"><defs /><svg width=\"100%\" x=\"0\" y=\"0px\"><defs /><text text-anchor=\"middle\" x=\"50%\" y=\"16px\">NNS</text></svg></svg><line stroke=\"black\" x1=\"50%\" x2=\"50%\" y1=\"20px\" y2=\"48px\" /></svg><line stroke=\"black\" x1=\"50%\" x2=\"60.1167%\" y1=\"20px\" y2=\"48px\" /><svg width=\"2.33463%\" x=\"63.035%\" y=\"48px\"><defs /><svg width=\"100%\" x=\"0\" y=\"0px\"><defs /><text text-anchor=\"middle\" x=\"50%\" y=\"16px\">laid</text></svg><svg width=\"100%\" x=\"0%\" y=\"48px\"><defs /><svg width=\"100%\" x=\"0\" y=\"0px\"><defs /><text text-anchor=\"middle\" x=\"50%\" y=\"16px\">VBD</text></svg></svg><line stroke=\"black\" x1=\"50%\" x2=\"50%\" y1=\"20px\" y2=\"48px\" /></svg><line stroke=\"black\" x1=\"50%\" x2=\"64.2023%\" y1=\"20px\" y2=\"48px\" /><svg width=\"1.94553%\" x=\"65.3696%\" y=\"48px\"><defs /><svg width=\"100%\" x=\"0\" y=\"0px\"><defs /><text text-anchor=\"middle\" x=\"50%\" y=\"16px\">the</text></svg><svg width=\"100%\" x=\"0%\" y=\"48px\"><defs /><svg width=\"100%\" x=\"0\" y=\"0px\"><defs /><text text-anchor=\"middle\" x=\"50%\" y=\"16px\">DT</text></svg></svg><line stroke=\"black\" x1=\"50%\" x2=\"50%\" y1=\"20px\" y2=\"48px\" /></svg><line stroke=\"black\" x1=\"50%\" x2=\"66.3424%\" y1=\"20px\" y2=\"48px\" /><svg width=\"4.66926%\" x=\"67.3152%\" y=\"48px\"><defs /><svg width=\"100%\" x=\"0\" y=\"0px\"><defs /><text text-anchor=\"middle\" x=\"50%\" y=\"16px\">foundation</text></svg><svg width=\"100%\" x=\"0%\" y=\"48px\"><defs /><svg width=\"100%\" x=\"0\" y=\"0px\"><defs /><text text-anchor=\"middle\" x=\"50%\" y=\"16px\">NN</text></svg></svg><line stroke=\"black\" x1=\"50%\" x2=\"50%\" y1=\"20px\" y2=\"48px\" /></svg><line stroke=\"black\" x1=\"50%\" x2=\"69.6498%\" y1=\"20px\" y2=\"48px\" /><svg width=\"1.94553%\" x=\"71.9844%\" y=\"48px\"><defs /><svg width=\"100%\" x=\"0\" y=\"0px\"><defs /><text text-anchor=\"middle\" x=\"50%\" y=\"16px\">for</text></svg><svg width=\"100%\" x=\"0%\" y=\"48px\"><defs /><svg width=\"100%\" x=\"0\" y=\"0px\"><defs /><text text-anchor=\"middle\" x=\"50%\" y=\"16px\">IN</text></svg></svg><line stroke=\"black\" x1=\"50%\" x2=\"50%\" y1=\"20px\" y2=\"48px\" /></svg><line stroke=\"black\" x1=\"50%\" x2=\"72.9572%\" y1=\"20px\" y2=\"48px\" /><svg width=\"2.72374%\" x=\"73.93%\" y=\"48px\"><defs /><svg width=\"100%\" x=\"0\" y=\"0px\"><defs /><text text-anchor=\"middle\" x=\"50%\" y=\"16px\">human</text></svg><svg width=\"100%\" x=\"0%\" y=\"48px\"><defs /><svg width=\"100%\" x=\"0\" y=\"0px\"><defs /><text text-anchor=\"middle\" x=\"50%\" y=\"16px\">JJ</text></svg></svg><line stroke=\"black\" x1=\"50%\" x2=\"50%\" y1=\"20px\" y2=\"48px\" /></svg><line stroke=\"black\" x1=\"50%\" x2=\"75.2918%\" y1=\"20px\" y2=\"48px\" /><svg width=\"3.89105%\" x=\"76.6537%\" y=\"48px\"><defs /><svg width=\"100%\" x=\"0\" y=\"0px\"><defs /><text text-anchor=\"middle\" x=\"50%\" y=\"16px\">cultural</text></svg><svg width=\"100%\" x=\"0%\" y=\"48px\"><defs /><svg width=\"100%\" x=\"0\" y=\"0px\"><defs /><text text-anchor=\"middle\" x=\"50%\" y=\"16px\">JJ</text></svg></svg><line stroke=\"black\" x1=\"50%\" x2=\"50%\" y1=\"20px\" y2=\"48px\" /></svg><line stroke=\"black\" x1=\"50%\" x2=\"78.5992%\" y1=\"20px\" y2=\"48px\" /><svg width=\"1.16732%\" x=\"80.5447%\" y=\"48px\"><defs /><svg width=\"100%\" x=\"0\" y=\"0px\"><defs /><text text-anchor=\"middle\" x=\"50%\" y=\"16px\">,</text></svg><svg width=\"100%\" x=\"0%\" y=\"48px\"><defs /><svg width=\"100%\" x=\"0\" y=\"0px\"><defs /><text text-anchor=\"middle\" x=\"50%\" y=\"16px\">,</text></svg></svg><line stroke=\"black\" x1=\"50%\" x2=\"50%\" y1=\"20px\" y2=\"48px\" /></svg><line stroke=\"black\" x1=\"50%\" x2=\"81.1284%\" y1=\"20px\" y2=\"48px\" /><svg width=\"3.11284%\" x=\"81.7121%\" y=\"48px\"><defs /><svg width=\"100%\" x=\"0\" y=\"0px\"><defs /><text text-anchor=\"middle\" x=\"50%\" y=\"16px\">social</text></svg><svg width=\"100%\" x=\"0%\" y=\"48px\"><defs /><svg width=\"100%\" x=\"0\" y=\"0px\"><defs /><text text-anchor=\"middle\" x=\"50%\" y=\"16px\">JJ</text></svg></svg><line stroke=\"black\" x1=\"50%\" x2=\"50%\" y1=\"20px\" y2=\"48px\" /></svg><line stroke=\"black\" x1=\"50%\" x2=\"83.2685%\" y1=\"20px\" y2=\"48px\" /><svg width=\"1.16732%\" x=\"84.8249%\" y=\"48px\"><defs /><svg width=\"100%\" x=\"0\" y=\"0px\"><defs /><text text-anchor=\"middle\" x=\"50%\" y=\"16px\">,</text></svg><svg width=\"100%\" x=\"0%\" y=\"48px\"><defs /><svg width=\"100%\" x=\"0\" y=\"0px\"><defs /><text text-anchor=\"middle\" x=\"50%\" y=\"16px\">,</text></svg></svg><line stroke=\"black\" x1=\"50%\" x2=\"50%\" y1=\"20px\" y2=\"48px\" /></svg><line stroke=\"black\" x1=\"50%\" x2=\"85.4086%\" y1=\"20px\" y2=\"48px\" /><svg width=\"1.94553%\" x=\"85.9922%\" y=\"48px\"><defs /><svg width=\"100%\" x=\"0\" y=\"0px\"><defs /><text text-anchor=\"middle\" x=\"50%\" y=\"16px\">and</text></svg><svg width=\"100%\" x=\"0%\" y=\"48px\"><defs /><svg width=\"100%\" x=\"0\" y=\"0px\"><defs /><text text-anchor=\"middle\" x=\"50%\" y=\"16px\">CC</text></svg></svg><line stroke=\"black\" x1=\"50%\" x2=\"50%\" y1=\"20px\" y2=\"48px\" /></svg><line stroke=\"black\" x1=\"50%\" x2=\"86.965%\" y1=\"20px\" y2=\"48px\" /><svg width=\"5.83658%\" x=\"87.9377%\" y=\"48px\"><defs /><svg width=\"100%\" x=\"0\" y=\"0px\"><defs /><text text-anchor=\"middle\" x=\"50%\" y=\"16px\">technological</text></svg><svg width=\"100%\" x=\"0%\" y=\"48px\"><defs /><svg width=\"100%\" x=\"0\" y=\"0px\"><defs /><text text-anchor=\"middle\" x=\"50%\" y=\"16px\">JJ</text></svg></svg><line stroke=\"black\" x1=\"50%\" x2=\"50%\" y1=\"20px\" y2=\"48px\" /></svg><line stroke=\"black\" x1=\"50%\" x2=\"90.856%\" y1=\"20px\" y2=\"48px\" /><svg width=\"5.05837%\" x=\"93.7743%\" y=\"48px\"><defs /><svg width=\"100%\" x=\"0\" y=\"0px\"><defs /><text text-anchor=\"middle\" x=\"50%\" y=\"16px\">development</text></svg><svg width=\"100%\" x=\"0%\" y=\"48px\"><defs /><svg width=\"100%\" x=\"0\" y=\"0px\"><defs /><text text-anchor=\"middle\" x=\"50%\" y=\"16px\">NN</text></svg></svg><line stroke=\"black\" x1=\"50%\" x2=\"50%\" y1=\"20px\" y2=\"48px\" /></svg><line stroke=\"black\" x1=\"50%\" x2=\"96.3035%\" y1=\"20px\" y2=\"48px\" /><svg width=\"1.16732%\" x=\"98.8327%\" y=\"48px\"><defs /><svg width=\"100%\" x=\"0\" y=\"0px\"><defs /><text text-anchor=\"middle\" x=\"50%\" y=\"16px\">.</text></svg><svg width=\"100%\" x=\"0%\" y=\"48px\"><defs /><svg width=\"100%\" x=\"0\" y=\"0px\"><defs /><text text-anchor=\"middle\" x=\"50%\" y=\"16px\">.</text></svg></svg><line stroke=\"black\" x1=\"50%\" x2=\"50%\" y1=\"20px\" y2=\"48px\" /></svg><line stroke=\"black\" x1=\"50%\" x2=\"99.4163%\" y1=\"20px\" y2=\"48px\" /></svg>"
          },
          "metadata": {},
          "execution_count": 12
        }
      ]
    },
    {
      "cell_type": "markdown",
      "source": [
        "#ENCODING(ONE HOT)"
      ],
      "metadata": {
        "id": "ngXDxEcRYARb"
      }
    },
    {
      "cell_type": "markdown",
      "source": [
        "#advantage : easy to implement\n",
        "#disadvantage : sparse matrix causes overfitiing   \n",
        "#anavailability if fixed size I/P\n",
        "#NO Semantic meaning is getting captured\n",
        "#Out of vocabulary"
      ],
      "metadata": {
        "id": "9Q45jRMFZXEF"
      }
    },
    {
      "cell_type": "code",
      "source": [
        " #BAG OF WORDS(binary or normal)\n",
        " #1:lower case all words and also remove stopwords\n",
        " #2:calculate the vocabulary frequency(maintain a order either increasing or decreasing)\n",
        " #3: make those vocabs a feature"
      ],
      "metadata": {
        "id": "IHyJlD-U3nKh"
      },
      "execution_count": 16,
      "outputs": []
    },
    {
      "cell_type": "code",
      "source": [
        "#ADVantage : simple,intutive and also we get fixed size of inputs\n",
        "#disadvanatge : sparse matrix (overfitting) ,ordering of words getting changed,out of vocabulary,semantic meaning is not getting captured\n"
      ],
      "metadata": {
        "id": "Sl2_ABP23nMy"
      },
      "execution_count": 15,
      "outputs": []
    },
    {
      "cell_type": "code",
      "source": [
        "#TF-IDF(term freq-inverse document freq)\n",
        "#TF=(no of repetiton  words in sentence)/(no of words in sentence)\n",
        "#IDF=log(no of senteces/ no of senteces contain the word)\n",
        "#ADVantage :intutive,fixed size i/p,word importance getting captured\n",
        "#DIsadvatage:"
      ],
      "metadata": {
        "id": "ipatiu613nPK"
      },
      "execution_count": 14,
      "outputs": []
    },
    {
      "cell_type": "code",
      "source": [
        "#Word embeddings:based on frequency (BOW,OHE,TFIDF)and based on deep learning(continuos bag of words,skipgram)"
      ],
      "metadata": {
        "id": "A_lOEVOJlSxN"
      },
      "execution_count": 13,
      "outputs": []
    },
    {
      "cell_type": "code",
      "source": [
        "#WORD2VEC(DEEP LEARNING)\n",
        "#1:FEATURE representation\n",
        "#2:COSINE similarity\n"
      ],
      "metadata": {
        "id": "IHAK6olm3nRU"
      },
      "execution_count": null,
      "outputs": []
    },
    {
      "cell_type": "code",
      "source": [
        "pip install gensim"
      ],
      "metadata": {
        "id": "XTkt9ECF3nU3",
        "colab": {
          "base_uri": "https://localhost:8080/"
        },
        "outputId": "aad84e4f-f808-44da-c733-989cb007a0ca"
      },
      "execution_count": 17,
      "outputs": [
        {
          "output_type": "stream",
          "name": "stdout",
          "text": [
            "Requirement already satisfied: gensim in /usr/local/lib/python3.10/dist-packages (4.3.3)\n",
            "Requirement already satisfied: numpy<2.0,>=1.18.5 in /usr/local/lib/python3.10/dist-packages (from gensim) (1.26.4)\n",
            "Requirement already satisfied: scipy<1.14.0,>=1.7.0 in /usr/local/lib/python3.10/dist-packages (from gensim) (1.13.1)\n",
            "Requirement already satisfied: smart-open>=1.8.1 in /usr/local/lib/python3.10/dist-packages (from gensim) (7.1.0)\n",
            "Requirement already satisfied: wrapt in /usr/local/lib/python3.10/dist-packages (from smart-open>=1.8.1->gensim) (1.17.0)\n"
          ]
        }
      ]
    },
    {
      "cell_type": "code",
      "source": [
        "import gensim"
      ],
      "metadata": {
        "id": "hpzoR1f5RytY"
      },
      "execution_count": 18,
      "outputs": []
    },
    {
      "cell_type": "code",
      "source": [
        "from gensim.models import Word2Vec, KeyedVectors"
      ],
      "metadata": {
        "id": "Neqamp1pRyvY"
      },
      "execution_count": 20,
      "outputs": []
    },
    {
      "cell_type": "code",
      "source": [
        "import gensim.downloader as api\n",
        "wv = api.load('word2vec-google-news-300')\n",
        "vec = wv['king']"
      ],
      "metadata": {
        "id": "3AjGUMllRyy8"
      },
      "execution_count": 21,
      "outputs": []
    },
    {
      "cell_type": "code",
      "source": [],
      "metadata": {
        "id": "NNY0N_DToho7"
      },
      "execution_count": null,
      "outputs": []
    },
    {
      "cell_type": "code",
      "source": [],
      "metadata": {
        "id": "yL5kndxWohle"
      },
      "execution_count": null,
      "outputs": []
    },
    {
      "cell_type": "code",
      "source": [],
      "metadata": {
        "id": "3Mqki8xMohjJ"
      },
      "execution_count": null,
      "outputs": []
    }
  ]
}